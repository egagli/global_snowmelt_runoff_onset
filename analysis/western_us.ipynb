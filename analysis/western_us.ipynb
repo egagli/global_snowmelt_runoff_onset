{
 "cells": [
  {
   "cell_type": "code",
   "execution_count": null,
   "metadata": {},
   "outputs": [],
   "source": []
  },
  {
   "cell_type": "code",
   "execution_count": null,
   "metadata": {},
   "outputs": [],
   "source": [
    "import pandas as pd\n",
    "import numpy as np\n",
    "import matplotlib.pyplot as plt\n",
    "import dask.dataframe as dd\n",
    "import seaborn as sns\n",
    "import xarray as xr\n",
    "import geopandas as gpd\n",
    "import xvec\n",
    "import coiled\n",
    "import rasterio\n",
    "import xyzservices.providers as xyz\n",
    "import dask\n",
    "import matplotlib.cm as cm\n",
    "\n",
    "import tqdm\n",
    "import easysnowdata\n",
    "from global_snowmelt_runoff_onset.config import Config"
   ]
  },
  {
   "cell_type": "code",
   "execution_count": null,
   "metadata": {},
   "outputs": [],
   "source": [
    "config = Config('../config/global_config.txt')"
   ]
  },
  {
   "cell_type": "code",
   "execution_count": null,
   "metadata": {},
   "outputs": [],
   "source": [
    "StationsWUS = easysnowdata.automatic_weather_stations.StationCollection()\n",
    "StationsWUS.get_entire_data_archive()"
   ]
  },
  {
   "cell_type": "code",
   "execution_count": null,
   "metadata": {},
   "outputs": [],
   "source": [
    "tiles_with_stations"
   ]
  },
  {
   "cell_type": "code",
   "execution_count": null,
   "metadata": {},
   "outputs": [],
   "source": [
    "tiles_with_stations_gdf = gpd.sjoin(\n",
    "    config.valid_tiles_gdf,\n",
    "    StationsWUS.all_stations,\n",
    "    how='inner',\n",
    "    predicate='contains'\n",
    ")\n",
    "tiles_with_stations_gdf = tiles_with_stations_gdf.drop_duplicates(subset=['row','col'])\n",
    "tiles_with_stations_gdf"
   ]
  },
  {
   "cell_type": "code",
   "execution_count": null,
   "metadata": {},
   "outputs": [],
   "source": [
    "tiles_with_stations_gdf.explore()"
   ]
  },
  {
   "cell_type": "code",
   "execution_count": null,
   "metadata": {},
   "outputs": [],
   "source": [
    "stations_WUS_da = StationsWUS.entire_data_archive['WTEQ'].sel(time=slice('2014-10-01','2024-09-30'))\n",
    "stations_WUS_da"
   ]
  },
  {
   "cell_type": "code",
   "execution_count": null,
   "metadata": {},
   "outputs": [],
   "source": [
    "#stations_WUS_da.fillna(-9999).groupby(\"WY\")#.map(lambda x: x.argmax(\"time\",skipna=True))"
   ]
  },
  {
   "cell_type": "code",
   "execution_count": null,
   "metadata": {},
   "outputs": [],
   "source": [
    "abs_diffs = np.abs(stations_WUS_da.diff(dim='time'))\n",
    "stations_WUS_da = stations_WUS_da.where((stations_WUS_da>=0) & (abs_diffs<0.2))\n",
    "\n",
    "\n",
    "def check_missing_data(group):\n",
    "    nov_to_apr_mask = group.time.dt.month.isin([11, 12, 1, 2, 3, 4, 5])\n",
    "    filtered_group = group.where(nov_to_apr_mask,drop=True)\n",
    "    missing_data_counts = filtered_group.isnull().sum(dim='time')\n",
    "    columns_to_nan = missing_data_counts > 30\n",
    "    group[columns_to_nan] = np.nan\n",
    "    return group\n",
    "\n",
    "\n",
    "def check_seasonal_snow_swe(group):\n",
    "    # Count days with SWE >= 0.05 in each window\n",
    "    sufficient_swe = (group >= 0.01).rolling(time=60, center=True, min_periods=55).sum()\n",
    "    # Find locations that meet the criteria in any window\n",
    "    columns_to_keep = (sufficient_swe >= 55).any(dim='time')\n",
    "    # Mask out columns that don't meet criteria\n",
    "    columns_to_nan = ~columns_to_keep\n",
    "    group[columns_to_nan] = np.nan\n",
    "    return group\n",
    "\n",
    "stations_WUS_da = stations_WUS_da.groupby('WY').apply(check_missing_data)\n",
    "stations_WUS_da = stations_WUS_da.groupby('WY').apply(check_seasonal_snow_swe)\n",
    "\n",
    "\n",
    "stations_WUS_max_SWE_timing_da = stations_WUS_da.fillna(-9999).groupby(\"WY\").map(lambda x: x.argmax(\"time\",skipna=True)).where(lambda x: x>0)\n",
    "runoff_onset_max_swe_timing_WUS_ds = stations_WUS_max_SWE_timing_da.to_dataset(name='station_max_SWE_timing')\n",
    "runoff_onset_max_swe_timing_WUS_ds"
   ]
  },
  {
   "cell_type": "code",
   "execution_count": null,
   "metadata": {},
   "outputs": [],
   "source": []
  },
  {
   "cell_type": "code",
   "execution_count": null,
   "metadata": {},
   "outputs": [],
   "source": []
  },
  {
   "cell_type": "code",
   "execution_count": null,
   "metadata": {},
   "outputs": [],
   "source": [
    "#aws_WUS_max_SWE_timing_da.dropna(dim='station',how='all')\n",
    "#aws_WUS_max_SWE_timing_da.dropna(dim='station',how='any')"
   ]
  },
  {
   "cell_type": "code",
   "execution_count": null,
   "metadata": {},
   "outputs": [],
   "source": [
    "import seaborn as sns\n",
    "import matplotlib.pyplot as plt\n",
    "\n",
    "# Create figure with appropriate size\n",
    "plt.figure(figsize=(12, 6))\n",
    "\n",
    "# Create boxplot using seaborn\n",
    "sns.boxplot(data=stations_WUS_max_SWE_timing_da.to_dataframe().reset_index(), \n",
    "           x='WY', \n",
    "           y=stations_WUS_max_SWE_timing_da.name,\n",
    "           color='lightblue')\n",
    "\n",
    "# Add a line connecting the medians\n",
    "sns.pointplot(data=stations_WUS_max_SWE_timing_da.to_dataframe().reset_index(),\n",
    "             x='WY',\n",
    "             y=stations_WUS_max_SWE_timing_da.name,\n",
    "             color='darkblue',\n",
    "             markers='o')\n",
    "\n",
    "plt.xticks(rotation=45)\n",
    "plt.title('Distribution of Max SWE Timing Across Stations by Water Year')\n",
    "plt.xlabel('Water Year')\n",
    "plt.ylabel('Max SWE Timing (days)')\n",
    "plt.tight_layout()\n",
    "\n",
    "\n",
    "import seaborn as sns\n",
    "import matplotlib.pyplot as plt\n",
    "\n",
    "plt.figure(figsize=(12, 6))\n",
    "\n",
    "# Create violin plot\n",
    "sns.violinplot(data=stations_WUS_max_SWE_timing_da.to_dataframe().reset_index(),\n",
    "               x='WY',\n",
    "               y=stations_WUS_max_SWE_timing_da.name,\n",
    "               color='lightblue',\n",
    "               inner='box')  # Shows quartile box inside violin\n",
    "\n",
    "plt.xticks(rotation=45)\n",
    "plt.title('Distribution of Max SWE Timing Across Stations by Water Year')\n",
    "plt.xlabel('Water Year')\n",
    "plt.ylabel('Max SWE Timing (days)')\n",
    "plt.tight_layout()\n"
   ]
  },
  {
   "cell_type": "code",
   "execution_count": null,
   "metadata": {},
   "outputs": [],
   "source": [
    "f,ax=plt.subplots(figsize=(10,30))\n",
    "stations_WUS_max_SWE_timing_da.dropna(dim='station',how='any').plot(ax=ax)"
   ]
  },
  {
   "cell_type": "code",
   "execution_count": null,
   "metadata": {},
   "outputs": [],
   "source": [
    "\n"
   ]
  },
  {
   "cell_type": "code",
   "execution_count": null,
   "metadata": {},
   "outputs": [],
   "source": []
  },
  {
   "cell_type": "code",
   "execution_count": null,
   "metadata": {},
   "outputs": [],
   "source": []
  },
  {
   "cell_type": "code",
   "execution_count": null,
   "metadata": {},
   "outputs": [],
   "source": [
    "StationsWUS.all_stations.explore()"
   ]
  },
  {
   "cell_type": "code",
   "execution_count": null,
   "metadata": {},
   "outputs": [],
   "source": [
    "runoff_onset_global_ds = xr.open_zarr(config.global_runoff_store, consolidated=True,decode_coords='all')\n",
    "runoff_onset_global_ds\n",
    "\n",
    "runoff_onset_WUS_ds = runoff_onset_global_ds.rio.clip_box(-120,30,-110,50,crs='EPSG:4326')\n",
    "runoff_onset_WUS_ds"
   ]
  },
  {
   "cell_type": "code",
   "execution_count": null,
   "metadata": {},
   "outputs": [],
   "source": [
    "def get_station_gdf(station_code, buffer_radius=None):\n",
    "    station_gdf = StationsWUS.all_stations[StationsWUS.all_stations.index==station_code]\n",
    "    station_epsg = station_gdf.estimate_utm_crs().to_epsg()\n",
    "    station_gdf = station_gdf.to_crs(epsg=station_epsg)\n",
    "    if buffer_radius:\n",
    "        station_gdf['geometry'] = station_gdf.geometry.buffer(buffer_radius)\n",
    "    return station_gdf\n",
    "\n",
    "\n",
    "\n",
    "def get_station_buffered_runoff_onset(runoff_onset_WUS_ds, station_gdf):\n",
    "\n",
    "    runoff_onset_station_ds = runoff_onset_WUS_ds.rio.clip_box(*station_gdf.total_bounds, crs=station_gdf.crs).rio.reproject(station_gdf.crs)\n",
    "    runoff_onset_station_ds = runoff_onset_station_ds.rio.clip(station_gdf.geometry) \n",
    "\n",
    "    fcf_da = easysnowdata.remote_sensing.get_forest_cover_fraction(runoff_onset_station_ds.rio.transform_bounds('EPSG:4326')).rio.reproject_match(runoff_onset_station_ds,resampling=rasterio.enums.Resampling.bilinear)\n",
    "    runoff_onset_station_ds['fcf'] = fcf_da\n",
    "\n",
    "    dem_da = easysnowdata.topography.get_copernicus_dem(runoff_onset_station_ds.rio.transform_bounds('EPSG:4326'), resolution=30).rio.reproject_match(runoff_onset_station_ds,resampling=rasterio.enums.Resampling.bilinear)\n",
    "    runoff_onset_station_ds['dem'] = dem_da\n",
    "\n",
    "    #runoff_onset_station_ds = runoff_onset_station_ds.rio.clip(station_gdf.geometry,all_touched=True) \n",
    "\n",
    "    return runoff_onset_station_ds"
   ]
  },
  {
   "cell_type": "code",
   "execution_count": null,
   "metadata": {},
   "outputs": [],
   "source": [
    "buffer_radius = 500\n",
    "station_code = '907_UT_SNTL'\n",
    "station_code = '1135_UT_SNTL'\n",
    "station_code = '448_MT_SNTL'\n",
    "station_code = '301_CA_SNTL'\n",
    "station_code = '679_WA_SNTL'\n",
    "station_code = '916_MT_SNTL'\n",
    "station_code = '1267_AK_SNTL'\n",
    "station_code = '908_WA_SNTL'\n",
    "station_code "
   ]
  },
  {
   "cell_type": "code",
   "execution_count": null,
   "metadata": {},
   "outputs": [],
   "source": [
    "station_gdf = get_station_gdf(station_code, buffer_radius) # check auto expand, cant use clip if yes\n",
    "#station_gdf = get_station_gdf(station_code)\n",
    "station_gdf.explore(tiles=xyz.Esri.WorldImagery())"
   ]
  },
  {
   "cell_type": "code",
   "execution_count": null,
   "metadata": {},
   "outputs": [],
   "source": [
    "runoff_onset_station_ds = get_station_buffered_runoff_onset(runoff_onset_global_ds, station_gdf)\n",
    "runoff_onset_station_ds"
   ]
  },
  {
   "cell_type": "code",
   "execution_count": null,
   "metadata": {},
   "outputs": [],
   "source": [
    "runoff_onset_station_ds['runoff_onset'].where(runoff_onset_station_ds['fcf']<50).median(dim=['x','y'])"
   ]
  },
  {
   "cell_type": "code",
   "execution_count": null,
   "metadata": {},
   "outputs": [],
   "source": [
    "runoff_onset_max_swe_timing_WUS_ds['station_max_SWE_timing'].sel(station=station_code)\n"
   ]
  },
  {
   "cell_type": "code",
   "execution_count": null,
   "metadata": {},
   "outputs": [],
   "source": []
  },
  {
   "cell_type": "code",
   "execution_count": null,
   "metadata": {},
   "outputs": [],
   "source": [
    "f,ax=plt.subplots(figsize=(12,7))\n",
    "runoff_onset_max_swe_timing_WUS_ds['station_max_SWE_timing'].sel(station=station_code).plot(ax=ax, label='Max SWE Timing',color='black')\n",
    "\n",
    "fcf_thresh_values = [10, 20, 30, 40, 50, 60, 70, 80, 90, 100]\n",
    "\n",
    "cmap = cm.get_cmap('viridis', len(fcf_thresh_values))\n",
    "\n",
    "for i, fcf_thresh in enumerate(fcf_thresh_values):\n",
    "    color = cmap(i)\n",
    "    runoff_onset_station_ds['runoff_onset'].where(runoff_onset_station_ds['fcf'] < fcf_thresh).median(dim=['x', 'y']).plot.scatter(ax=ax, label=f'{fcf_thresh}th percentile', color=color)\n",
    "ax.legend()"
   ]
  },
  {
   "cell_type": "code",
   "execution_count": null,
   "metadata": {},
   "outputs": [],
   "source": [
    "f,ax=plt.subplots(figsize=(12,7))\n",
    "runoff_onset_max_swe_timing_WUS_ds['station_max_SWE_timing'].sel(station=station_code).plot(ax=ax, label='Max SWE Timing',color='black')\n",
    "\n",
    "fcf_thresh_values = [10, 20, 30, 40, 50, 60, 70, 80, 90, 100]\n",
    "\n",
    "cmap = cm.get_cmap('inferno', len(fcf_thresh_values))\n",
    "\n",
    "for i, fcf_thresh in enumerate(fcf_thresh_values):\n",
    "    color = cmap(i)\n",
    "    runoff_onset_station_ds['runoff_onset'].where((runoff_onset_station_ds['fcf'] < fcf_thresh) & (runoff_onset_station_ds['fcf'] >= fcf_thresh-10)).median(dim=['x', 'y']).plot.scatter(ax=ax, label=f'{fcf_thresh-10}<=fcf<{fcf_thresh}', color=color)\n",
    "ax.legend()"
   ]
  },
  {
   "cell_type": "code",
   "execution_count": null,
   "metadata": {},
   "outputs": [],
   "source": [
    "import hvplot.xarray"
   ]
  },
  {
   "cell_type": "code",
   "execution_count": null,
   "metadata": {},
   "outputs": [],
   "source": [
    "easysnowdata.utils.datetime_to_DOWY('2024-04-10')"
   ]
  },
  {
   "cell_type": "code",
   "execution_count": null,
   "metadata": {},
   "outputs": [],
   "source": [
    "#f,ax=plt.subplots(figsize=(12,7))\n",
    "stations_WUS_da.sel(station=station_code).hvplot.scatter(x='time')"
   ]
  },
  {
   "cell_type": "code",
   "execution_count": null,
   "metadata": {},
   "outputs": [],
   "source": [
    "runoff_onset_station_ds['runoff_onset'].plot.imshow(col='water_year',col_wrap=5,robust=True,vmin=50,vmax=250)"
   ]
  },
  {
   "cell_type": "code",
   "execution_count": null,
   "metadata": {},
   "outputs": [],
   "source": [
    "runoff_onset_station_ds['runoff_onset'].where(runoff_onset_station_ds['fcf']<20).plot.imshow(col='water_year',col_wrap=5,robust=True,vmin=50,vmax=250)"
   ]
  },
  {
   "cell_type": "code",
   "execution_count": null,
   "metadata": {},
   "outputs": [],
   "source": [
    "runoff_onset_station_ds['fcf'].where(runoff_onset_station_ds['runoff_onset_median']>0).plot.imshow()"
   ]
  },
  {
   "cell_type": "code",
   "execution_count": null,
   "metadata": {},
   "outputs": [],
   "source": [
    "runoff_onset_station_ds['dem'].where(runoff_onset_station_ds['runoff_onset_median']>0).plot.imshow()"
   ]
  },
  {
   "cell_type": "code",
   "execution_count": null,
   "metadata": {},
   "outputs": [],
   "source": [
    "# now test sensitivty to FCF"
   ]
  },
  {
   "cell_type": "code",
   "execution_count": null,
   "metadata": {},
   "outputs": [],
   "source": []
  },
  {
   "cell_type": "code",
   "execution_count": null,
   "metadata": {},
   "outputs": [],
   "source": []
  },
  {
   "cell_type": "code",
   "execution_count": null,
   "metadata": {},
   "outputs": [],
   "source": [
    "fcf_thresh_values = [10,20,30,40,50,60,70,80,90,100]\n",
    "buffer_radii = [50,100,200,300,400,500,1000]\n",
    "\n",
    "runoff_onset_timing_WUS_ds = xr.DataArray(\n",
    "    data=np.nan,  # Initialize with NaNs\n",
    "    dims=[\"station\",\"WY\",\"buffer_radii\",\"fcf\"],\n",
    "    coords={\"station\": runoff_onset_max_swe_timing_WUS_ds.station, \"WY\": runoff_onset_max_swe_timing_WUS_ds.WY, \"buffer_radii\": buffer_radii, \"fcf\": fcf_thresh_values},\n",
    "    name=\"runoff_onset_timing\"\n",
    ")\n",
    "#runoff_onset_timing_WUS_ds\n",
    "\n",
    "\n",
    "# Iterate over each station\n",
    "for station_code in tqdm.tqdm(runoff_onset_max_swe_timing_WUS_ds.station.values):\n",
    "    print(f'Processing station {station_code}')\n",
    "    for buffer_radius in buffer_radii:\n",
    "        print(f'Processing buffer radius {buffer_radius}')\n",
    "        try:\n",
    "            station_gdf = get_station_gdf(station_code, buffer_radius)\n",
    "\n",
    "            runoff_onset_station_ds = get_station_buffered_runoff_onset(runoff_onset_global_ds, station_gdf)\n",
    "            \n",
    "            # Assign the calculated timing to the new DataArray\n",
    "            for fcf_thresh in fcf_thresh_values:\n",
    "                runoff_onset_timing_WUS_ds.loc[dict(station=station_code,buffer_radii=buffer_radius,fcf=fcf_thresh)] = runoff_onset_station_ds['runoff_onset'].where(runoff_onset_station_ds['fcf'] <= fcf_thresh).median(dim=['x', 'y']).rename({'water_year':'WY'})\n",
    "        except Exception as e:\n",
    "            print(e)\n",
    "\n",
    "runoff_onset_max_swe_timing_WUS_ds = runoff_onset_max_swe_timing_WUS_ds.assign(runoff_onset_timing=runoff_onset_timing_WUS_ds)\n",
    "runoff_onset_max_swe_timing_WUS_ds['sar_minus_stations'] = runoff_onset_max_swe_timing_WUS_ds['runoff_onset_timing'] - runoff_onset_max_swe_timing_WUS_ds['station_max_SWE_timing']\n",
    "runoff_onset_max_swe_timing_WUS_ds.drop_vars('geometry').to_netcdf(f'snotel_sar_differences.nc')"
   ]
  },
  {
   "cell_type": "code",
   "execution_count": null,
   "metadata": {},
   "outputs": [],
   "source": [
    "test_ds = xr.open_dataset('snotel_sar_differences.nc').compute()\n",
    "test_ds"
   ]
  },
  {
   "cell_type": "code",
   "execution_count": null,
   "metadata": {},
   "outputs": [],
   "source": [
    "runoff_onset_max_swe_timing_WUS_ds"
   ]
  },
  {
   "cell_type": "code",
   "execution_count": null,
   "metadata": {},
   "outputs": [],
   "source": [
    "runoff_onset_max_swe_timing_WUS_ds['runoff_onset_timing'].sel(fcf=10).median(dim='station').plot()"
   ]
  },
  {
   "cell_type": "code",
   "execution_count": null,
   "metadata": {},
   "outputs": [],
   "source": [
    "runoff_onset_max_swe_timing_WUS_ds['station_max_SWE_timing'].median(dim='station').plot()"
   ]
  },
  {
   "cell_type": "code",
   "execution_count": null,
   "metadata": {},
   "outputs": [],
   "source": [
    "runoff_onset_max_swe_timing_WUS_ds['sar_minus_stations'].sel(fcf=50).median(dim='station')"
   ]
  },
  {
   "cell_type": "code",
   "execution_count": null,
   "metadata": {},
   "outputs": [],
   "source": [
    "runoff_onset_max_swe_timing_WUS_ds['sar_minus_stations'].sel(fcf=100).median(dim='station').plot(vmin=-20,vmax=20,cmap='RdBu_r')"
   ]
  },
  {
   "cell_type": "code",
   "execution_count": null,
   "metadata": {},
   "outputs": [],
   "source": [
    "runoff_onset_max_swe_timing_WUS_ds['sar_minus_stations'].sel(fcf=50).median(dim='station').plot(vmin=-20,vmax=20,cmap='RdBu_r')"
   ]
  },
  {
   "cell_type": "code",
   "execution_count": null,
   "metadata": {},
   "outputs": [],
   "source": [
    "runoff_onset_max_swe_timing_WUS_ds['sar_minus_stations'].sel(fcf=10).median(dim='station').plot(vmin=-20,vmax=20,cmap='RdBu_r')"
   ]
  },
  {
   "cell_type": "code",
   "execution_count": null,
   "metadata": {},
   "outputs": [],
   "source": [
    "runoff_onset_max_swe_timing_WUS_ds['sar_minus_stations'].sel(fcf=10).count(dim='station').plot()"
   ]
  },
  {
   "cell_type": "code",
   "execution_count": null,
   "metadata": {},
   "outputs": [],
   "source": []
  },
  {
   "cell_type": "code",
   "execution_count": null,
   "metadata": {},
   "outputs": [],
   "source": [
    "fcf_thresh=20\n",
    "buffer_radius=500\n",
    "f,axs=plt.subplots(len(runoff_onset_max_swe_timing_WUS_ds.WY.values),1,figsize=(6,20),sharex=True)\n",
    "for ax, WY in zip(axs,runoff_onset_max_swe_timing_WUS_ds.WY.values):\n",
    "    runoff_onset_max_swe_timing_WUS_ds['sar_minus_stations'].sel(WY=WY,fcf=10,buffer_radii=50).plot.hist(ax=ax,bins=50)#.median(dim='station').plot(vmin=-20,vmax=20,cmap='RdBu_r')\n",
    "    print(f'For {WY} with fcf_thresh of {fcf_thresh} and buffer_radius of {buffer_radius}, MAE = {np.abs(runoff_onset_max_swe_timing_WUS_ds[\"sar_minus_stations\"].sel(WY=WY,fcf=fcf_thresh,buffer_radii=buffer_radius)).mean().values}')\n",
    "f.tight_layout()"
   ]
  },
  {
   "cell_type": "code",
   "execution_count": null,
   "metadata": {},
   "outputs": [],
   "source": [
    "runoff_onset_max_swe_timing_WUS_ds['sar_minus_stations'].sel(fcf=20,buffer_radii=100).plot.hist(bins=50)#.median(dim='station').plot(vmin=-20,vmax=20,cmap='RdBu_r')"
   ]
  },
  {
   "cell_type": "code",
   "execution_count": null,
   "metadata": {},
   "outputs": [],
   "source": [
    "sar_minus_stations_df = runoff_onset_max_swe_timing_WUS_ds['sar_minus_stations'].sel(fcf=20,buffer_radii=100).median(dim='WY').to_dataframe()\n",
    "sar_minus_stations_gdf = gpd.GeoDataFrame(sar_minus_stations_df, geometry=gpd.points_from_xy(sar_minus_stations_df.longitude, sar_minus_stations_df.latitude))\n",
    "sar_minus_stations_gdf"
   ]
  },
  {
   "cell_type": "code",
   "execution_count": null,
   "metadata": {},
   "outputs": [],
   "source": [
    "import xyzservices as xyz"
   ]
  },
  {
   "cell_type": "code",
   "execution_count": null,
   "metadata": {},
   "outputs": [],
   "source": [
    "sar_minus_stations_gdf.explore('sar_minus_stations', tiles=xyz.providers.Esri.WorldImagery)"
   ]
  },
  {
   "cell_type": "code",
   "execution_count": null,
   "metadata": {},
   "outputs": [],
   "source": [
    "runoff_onset_max_swe_timing_WUS_ds['sar_minus_stations'].sel(fcf=20,buffer_radii=1000).plot.hist(bins=50)#.median(dim='station').plot(vmin=-20,vmax=20,cmap='RdBu_r')"
   ]
  },
  {
   "cell_type": "code",
   "execution_count": null,
   "metadata": {},
   "outputs": [],
   "source": [
    "np.abs(runoff_onset_max_swe_timing_WUS_ds['sar_minus_stations'].sel(fcf=20)).median(dim='station').plot(vmin=0,vmax=30)"
   ]
  },
  {
   "cell_type": "code",
   "execution_count": null,
   "metadata": {},
   "outputs": [],
   "source": [
    "runoff_onset_max_swe_timing_WUS_ds['runoff_onset_timing'].sel(fcf=100)#.plot.hist(alpha=0.5,bins=500)\n"
   ]
  },
  {
   "cell_type": "code",
   "execution_count": null,
   "metadata": {},
   "outputs": [],
   "source": [
    "f,ax=plt.subplots()\n",
    "runoff_onset_max_swe_timing_WUS_ds['station_max_SWE_timing'].plot.hist(ax=ax,alpha=0.5,bins=50)\n",
    "for fcf_thresh in fcf_thresh_values:\n",
    "    runoff_onset_max_swe_timing_WUS_ds['runoff_onset_timing'].sel(fcf=fcf_thresh).plot.hist(ax=ax,alpha=0.2,bins=50)\n",
    "ax.legend()\n",
    "\n"
   ]
  },
  {
   "cell_type": "code",
   "execution_count": null,
   "metadata": {},
   "outputs": [],
   "source": [
    "f,ax=plt.subplots(figsize=(10,10))\n",
    "runoff_onset_max_swe_timing_WUS_ds['station_max_SWE_timing'].plot.hist(ax=ax,alpha=0.5,bins=50,color='black')\n",
    "runoff_onset_max_swe_timing_WUS_ds['runoff_onset_timing'].sel(fcf=10).plot.hist(ax=ax,alpha=0.2,bins=50,color='red')\n",
    "runoff_onset_max_swe_timing_WUS_ds['runoff_onset_timing'].sel(fcf=50).plot.hist(ax=ax,alpha=0.2,bins=50,color='green')\n",
    "runoff_onset_max_swe_timing_WUS_ds['runoff_onset_timing'].sel(fcf=100).plot.hist(ax=ax,alpha=0.2,bins=50,color='blue')\n",
    "\n",
    "ax.legend()"
   ]
  },
  {
   "cell_type": "code",
   "execution_count": null,
   "metadata": {},
   "outputs": [],
   "source": [
    "runoff_onset_max_swe_timing_WUS_ds['sar_minus_stations']"
   ]
  },
  {
   "cell_type": "code",
   "execution_count": null,
   "metadata": {},
   "outputs": [],
   "source": [
    "runoff_onset_max_swe_timing_WUS_ds['station_max_SWE_timing'].count(dim='station').plot()"
   ]
  },
  {
   "cell_type": "code",
   "execution_count": null,
   "metadata": {},
   "outputs": [],
   "source": [
    "runoff_onset_max_swe_timing_WUS_ds['runoff_onset_timing'].count(dim='station').plot()"
   ]
  },
  {
   "cell_type": "code",
   "execution_count": null,
   "metadata": {},
   "outputs": [],
   "source": [
    "runoff_onset_max_swe_timing_WUS_ds['sar_minus_stations'].count(dim='station').plot()"
   ]
  },
  {
   "cell_type": "code",
   "execution_count": null,
   "metadata": {},
   "outputs": [],
   "source": [
    "runoff_onset_max_swe_timing_WUS_ds['sar_minus_stations'].mean(['station']).plot()"
   ]
  },
  {
   "cell_type": "code",
   "execution_count": null,
   "metadata": {},
   "outputs": [],
   "source": [
    "np.abs(runoff_onset_max_swe_timing_WUS_ds['sar_minus_stations']).mean(['station']).plot()"
   ]
  },
  {
   "cell_type": "code",
   "execution_count": null,
   "metadata": {},
   "outputs": [],
   "source": [
    "runoff_onset_max_swe_timing_WUS_ds.drop_vars('geometry').to_netcdf('snotel_sar_differences.nc')"
   ]
  },
  {
   "cell_type": "code",
   "execution_count": null,
   "metadata": {},
   "outputs": [],
   "source": []
  },
  {
   "cell_type": "code",
   "execution_count": null,
   "metadata": {},
   "outputs": [],
   "source": []
  },
  {
   "cell_type": "code",
   "execution_count": null,
   "metadata": {},
   "outputs": [],
   "source": []
  }
 ],
 "metadata": {
  "kernelspec": {
   "display_name": "global_snowmelt_runoff_onset",
   "language": "python",
   "name": "python3"
  },
  "language_info": {
   "codemirror_mode": {
    "name": "ipython",
    "version": 3
   },
   "file_extension": ".py",
   "mimetype": "text/x-python",
   "name": "python",
   "nbconvert_exporter": "python",
   "pygments_lexer": "ipython3",
   "version": "3.10.14"
  }
 },
 "nbformat": 4,
 "nbformat_minor": 2
}
