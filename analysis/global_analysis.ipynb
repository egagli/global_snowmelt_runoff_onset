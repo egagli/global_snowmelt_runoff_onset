{
 "cells": [
  {
   "cell_type": "markdown",
   "metadata": {},
   "source": [
    "# Global analysis of snowmelt runoff onset"
   ]
  },
  {
   "cell_type": "code",
   "execution_count": 1,
   "metadata": {},
   "outputs": [],
   "source": [
    "import pandas as pd\n",
    "import numpy as np\n",
    "import matplotlib.pyplot as plt\n",
    "import dask.dataframe as dd\n",
    "import seaborn as sns\n",
    "import xarray as xr\n",
    "import coiled\n",
    "import dask\n",
    "from global_snowmelt_runoff_onset.config import Config, Tile"
   ]
  },
  {
   "cell_type": "code",
   "execution_count": 2,
   "metadata": {},
   "outputs": [
    {
     "name": "stdout",
     "output_type": "stream",
     "text": [
      "Configuration loaded:\n",
      "resolution = 0.00072000072000072\n",
      "spatial_chunk_dim = 2048\n",
      "bbox_left = -179.999\n",
      "bbox_right = 179.999\n",
      "bbox_top = 81.099\n",
      "bbox_bottom = -59.999\n",
      "wy_start = 2015\n",
      "wy_end = 2024\n",
      "low_backscatter_threshold = 0.001\n",
      "min_monthly_acquisitions = 2\n",
      "max_allowed_days_gap_per_orbit = 30\n",
      "min_years_for_median_std = 3\n",
      "valid_tiles_geojson_path = ../processing/valid_tiles.geojson\n",
      "tile_results_path = ../processing/tile_results.csv\n",
      "global_runoff_zarr_store_azure_path = snowmelt/snowmelt_runoff_onset/global.zarr\n",
      "seasonal_snow_mask_zarr_store_azure_path = snowmelt/snow_mask_v2/global_modis_snow_mask.zarr\n"
     ]
    }
   ],
   "source": [
    "config = Config('../config/global_config.txt')"
   ]
  },
  {
   "cell_type": "code",
   "execution_count": null,
   "metadata": {},
   "outputs": [],
   "source": [
    "cluster = coiled.Cluster(idle_timeout=\"10 minutes\",\n",
    "                        n_workers=10,\n",
    "                        worker_memory=\"32 GB\",\n",
    "                        worker_cpu=4,\n",
    "                        scheduler_memory=\"32 GB\",\n",
    "                        spot_policy=\"spot\",\n",
    "                        environ={\"GDAL_DISABLE_READDIR_ON_OPEN\": \"EMPTY_DIR\"},\n",
    "                        workspace=\"azure\",\n",
    "                        )\n",
    "\n",
    "client = cluster.get_client()"
   ]
  },
  {
   "cell_type": "code",
   "execution_count": 3,
   "metadata": {},
   "outputs": [],
   "source": [
    "global_ds = xr.open_zarr(config.global_runoff_store, consolidated=True,decode_coords='all')"
   ]
  },
  {
   "cell_type": "markdown",
   "metadata": {},
   "source": [
    "## Read in parquet files"
   ]
  },
  {
   "cell_type": "code",
   "execution_count": null,
   "metadata": {},
   "outputs": [],
   "source": [
    "ddf = dd.read_parquet('snowmelt/analysis/tiles/', filesystem=config.azure_blob_fs)"
   ]
  },
  {
   "cell_type": "code",
   "execution_count": null,
   "metadata": {},
   "outputs": [],
   "source": [
    "#df = ddf[[\"original_lat\",\"original_lon\",\"runoff_onset_median\",\"dem\",\"aspect\"]].persist()\n",
    "all_tiles_results_df = ddf[[\"original_lat\",\"runoff_onset_median\",\"dem\"]].repartition(partition_size=\"256 MiB\").persist()#.compute().repartition(partition_size=\"256 MiB\")\n",
    "all_tiles_results_df"
   ]
  },
  {
   "cell_type": "code",
   "execution_count": null,
   "metadata": {},
   "outputs": [],
   "source": [
    "all_tiles_results_df.memory_usage().compute() / 1e9"
   ]
  },
  {
   "cell_type": "markdown",
   "metadata": {},
   "source": [
    "## global analysis: linear regression and correlations"
   ]
  },
  {
   "cell_type": "code",
   "execution_count": 8,
   "metadata": {},
   "outputs": [],
   "source": [
    "# for every X increase in elevation there is a y delay\n",
    "# for every X increase in latitude there is a y delay"
   ]
  },
  {
   "cell_type": "code",
   "execution_count": null,
   "metadata": {},
   "outputs": [],
   "source": [
    "all_tiles_results_df.corr().compute()"
   ]
  },
  {
   "cell_type": "markdown",
   "metadata": {},
   "source": [
    "## global analysis: bin by latitude and elevation"
   ]
  },
  {
   "cell_type": "code",
   "execution_count": 10,
   "metadata": {},
   "outputs": [],
   "source": [
    "dem_bin_low = 0\n",
    "dem_bin_high = 8000\n",
    "dem_bin_interval = 100\n",
    "dem_bins = np.arange(dem_bin_low,dem_bin_high+dem_bin_interval,dem_bin_interval)\n",
    "lat_bin_low = -80\n",
    "lat_bin_high = 80\n",
    "lat_bin_interval = 1\n",
    "lat_bins = np.arange(lat_bin_low,lat_bin_high+lat_bin_interval,lat_bin_interval)"
   ]
  },
  {
   "cell_type": "code",
   "execution_count": null,
   "metadata": {},
   "outputs": [],
   "source": [
    "all_tiles_results_df['lat_bin'] = all_tiles_results_df['original_lat'].map_partitions(pd.cut, lat_bins)\n",
    "all_tiles_results_df['dem_bin'] = all_tiles_results_df['dem'].map_partitions(pd.cut, dem_bins)\n",
    "all_tiles_results_df = all_tiles_results_df.dropna()\n",
    "all_tiles_results_df"
   ]
  },
  {
   "cell_type": "code",
   "execution_count": null,
   "metadata": {},
   "outputs": [],
   "source": [
    "all_tiles_results_df['lat_bin'] = all_tiles_results_df['lat_bin'].apply(lambda x: x.left).astype(int)\n",
    "all_tiles_results_df['dem_bin'] = all_tiles_results_df['dem_bin'].apply(lambda x: x.left).astype(int)\n",
    "all_tiles_results_df"
   ]
  },
  {
   "cell_type": "code",
   "execution_count": null,
   "metadata": {},
   "outputs": [],
   "source": [
    "groupby_latitude_and_elevation_df = all_tiles_results_df.groupby(['lat_bin', 'dem_bin']).median()#.reset_index()\n",
    "groupby_latitude_and_elevation_df"
   ]
  },
  {
   "cell_type": "code",
   "execution_count": null,
   "metadata": {},
   "outputs": [],
   "source": [
    "with dask.config.set({\"dataframe.shuffle.method\": \"tasks\"}):\n",
    "    groupby_latitude_and_elevation_df = groupby_latitude_and_elevation_df.compute()\n",
    "groupby_latitude_and_elevation_df"
   ]
  },
  {
   "cell_type": "code",
   "execution_count": null,
   "metadata": {},
   "outputs": [],
   "source": [
    "runoff_onset_vs_lat_and_elev_df = groupby_latitude_and_elevation_df.reset_index().pivot(index='lat_bin', columns='dem_bin', values='runoff_onset_median').reindex(lat_bins).sort_index(ascending=False)\n",
    "runoff_onset_vs_lat_and_elev_df"
   ]
  },
  {
   "cell_type": "code",
   "execution_count": null,
   "metadata": {},
   "outputs": [],
   "source": []
  },
  {
   "cell_type": "code",
   "execution_count": null,
   "metadata": {},
   "outputs": [],
   "source": [
    "# Pivot the result DataFrame to create a 2D array suitable for heatmap\n",
    "#pivot_df = result.pivot(index='lat_bin', columns='dem_bin', values='runoff_onset_median')\n",
    "\n",
    "\n",
    "# Create the heatmap\n",
    "f,ax=plt.subplots(figsize=(8,10),dpi=300)\n",
    "sns.heatmap(runoff_onset_vs_lat_and_elev_df, square=True,ax=ax, cmap='viridis', cbar_kws={'label': 'snowmelt runoff onset [DOWY]'},\n",
    "            vmin=0,vmax=365)\n",
    "\n",
    "# Set labels and title\n",
    "ax.set_xlabel('elevation (m)')\n",
    "ax.set_ylabel('latitude [degrees]')\n",
    "ax.set_title('2015-2024 median date of snowmelt runoff onset\\nbinned by elevation and latitude')\n",
    "\n",
    "# Rotate x-axis labels for better readability\n",
    "#ax.set_ticks(rotation=45, ha='right')\n",
    "\n",
    "#f.tight_layout()"
   ]
  },
  {
   "cell_type": "markdown",
   "metadata": {},
   "source": [
    "## global analysis: "
   ]
  },
  {
   "cell_type": "code",
   "execution_count": null,
   "metadata": {},
   "outputs": [],
   "source": []
  },
  {
   "cell_type": "code",
   "execution_count": null,
   "metadata": {},
   "outputs": [],
   "source": []
  },
  {
   "cell_type": "code",
   "execution_count": null,
   "metadata": {},
   "outputs": [],
   "source": []
  },
  {
   "cell_type": "code",
   "execution_count": null,
   "metadata": {},
   "outputs": [],
   "source": []
  },
  {
   "cell_type": "code",
   "execution_count": null,
   "metadata": {},
   "outputs": [],
   "source": []
  },
  {
   "cell_type": "code",
   "execution_count": null,
   "metadata": {},
   "outputs": [],
   "source": []
  },
  {
   "cell_type": "code",
   "execution_count": null,
   "metadata": {},
   "outputs": [],
   "source": []
  },
  {
   "cell_type": "code",
   "execution_count": null,
   "metadata": {},
   "outputs": [],
   "source": []
  },
  {
   "cell_type": "code",
   "execution_count": null,
   "metadata": {},
   "outputs": [],
   "source": []
  },
  {
   "cell_type": "markdown",
   "metadata": {},
   "source": [
    "## Code graveyard"
   ]
  },
  {
   "cell_type": "code",
   "execution_count": null,
   "metadata": {},
   "outputs": [],
   "source": []
  }
 ],
 "metadata": {
  "kernelspec": {
   "display_name": "global_snowmelt_runoff_onset",
   "language": "python",
   "name": "python3"
  },
  "language_info": {
   "codemirror_mode": {
    "name": "ipython",
    "version": 3
   },
   "file_extension": ".py",
   "mimetype": "text/x-python",
   "name": "python",
   "nbconvert_exporter": "python",
   "pygments_lexer": "ipython3",
   "version": "3.10.14"
  }
 },
 "nbformat": 4,
 "nbformat_minor": 2
}
